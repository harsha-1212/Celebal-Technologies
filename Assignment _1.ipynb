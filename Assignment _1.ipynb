{
 "cells": [
  {
   "cell_type": "code",
   "execution_count": 4,
   "id": "6f353612-e55b-4efd-9968-afd3ae499ab5",
   "metadata": {},
   "outputs": [
    {
     "name": "stdin",
     "output_type": "stream",
     "text": [
      "Enter number of rows:  5\n"
     ]
    },
    {
     "name": "stdout",
     "output_type": "stream",
     "text": [
      "* \n",
      "* * \n",
      "* * * \n",
      "* * * * \n",
      "* * * * * \n"
     ]
    }
   ],
   "source": [
    "def lower_triangle(n):\n",
    "    for i in range(1, n + 1):\n",
    "        print(\"* \" * i)\n",
    "\n",
    "rows = int(input(\"Enter number of rows: \"))\n",
    "lower_triangle(rows)\n"
   ]
  },
  {
   "cell_type": "code",
   "execution_count": 5,
   "id": "6a9fc293-3214-44c8-803e-5acc3f2274fa",
   "metadata": {},
   "outputs": [
    {
     "name": "stdin",
     "output_type": "stream",
     "text": [
      "Enter number of rows:  4\n"
     ]
    },
    {
     "name": "stdout",
     "output_type": "stream",
     "text": [
      "* * * * \n",
      "* * * \n",
      "* * \n",
      "* \n"
     ]
    }
   ],
   "source": [
    "def upper_triangle(n):\n",
    "    for i in range(n, 0, -1):\n",
    "        print(\"* \" * i)\n",
    "\n",
    "rows = int(input(\"Enter number of rows: \"))\n",
    "upper_triangle(rows)\n"
   ]
  },
  {
   "cell_type": "code",
   "execution_count": 6,
   "id": "d08ffaac-4b61-4eb3-9a8c-4748add33208",
   "metadata": {},
   "outputs": [
    {
     "name": "stdin",
     "output_type": "stream",
     "text": [
      "Enter number of rows:  7\n"
     ]
    },
    {
     "name": "stdout",
     "output_type": "stream",
     "text": [
      "      * \n",
      "     * * \n",
      "    * * * \n",
      "   * * * * \n",
      "  * * * * * \n",
      " * * * * * * \n",
      "* * * * * * * \n"
     ]
    }
   ],
   "source": [
    "def pyramid(n):\n",
    "    for i in range(1, n + 1):\n",
    "        spaces = ' ' * (n - i)\n",
    "        stars = '* ' * i\n",
    "        print(spaces + stars)\n",
    "\n",
    "rows = int(input(\"Enter number of rows: \"))\n",
    "pyramid(rows)\n"
   ]
  },
  {
   "cell_type": "code",
   "execution_count": null,
   "id": "62dc7f05-8433-4a34-88af-99b5eefcee2e",
   "metadata": {},
   "outputs": [],
   "source": []
  }
 ],
 "metadata": {
  "kernelspec": {
   "display_name": "Python 3 (ipykernel)",
   "language": "python",
   "name": "python3"
  },
  "language_info": {
   "codemirror_mode": {
    "name": "ipython",
    "version": 3
   },
   "file_extension": ".py",
   "mimetype": "text/x-python",
   "name": "python",
   "nbconvert_exporter": "python",
   "pygments_lexer": "ipython3",
   "version": "3.12.2"
  }
 },
 "nbformat": 4,
 "nbformat_minor": 5
}
